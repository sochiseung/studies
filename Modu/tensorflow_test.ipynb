{
 "cells": [
  {
   "cell_type": "code",
   "execution_count": 2,
   "metadata": {},
   "outputs": [],
   "source": [
    "import tensorflow as tf"
   ]
  },
  {
   "cell_type": "code",
   "execution_count": 4,
   "metadata": {},
   "outputs": [
    {
     "data": {
      "text/plain": [
       "'1.4.0'"
      ]
     },
     "execution_count": 4,
     "metadata": {},
     "output_type": "execute_result"
    }
   ],
   "source": [
    "tf.__version__"
   ]
  },
  {
   "cell_type": "code",
   "execution_count": 6,
   "metadata": {},
   "outputs": [
    {
     "name": "stdout",
     "output_type": "stream",
     "text": [
      "b'Hello, TensorFlow!'\n"
     ]
    }
   ],
   "source": [
    "# Lab 01\n",
    "# TensorFlow Hello World!\n",
    "hello = tf.constant(\"Hello, TensorFlow!\")\n",
    "\n",
    "sess = tf.Session()\n",
    "print(sess.run(hello))"
   ]
  },
  {
   "cell_type": "code",
   "execution_count": 7,
   "metadata": {},
   "outputs": [],
   "source": [
    "# add tf\n",
    "# 1. Build Graph using tf operations\n",
    "node1 = tf.constant(3.0, tf.float32)\n",
    "node2 = tf.constant(4.0)\n",
    "node3 = tf.add(node1, node2)"
   ]
  },
  {
   "cell_type": "code",
   "execution_count": 8,
   "metadata": {},
   "outputs": [
    {
     "name": "stdout",
     "output_type": "stream",
     "text": [
      "node1: Tensor(\"Const_2:0\", shape=(), dtype=float32) node2: Tensor(\"Const_3:0\", shape=(), dtype=float32)\n",
      "node3: Tensor(\"Add:0\", shape=(), dtype=float32)\n"
     ]
    }
   ],
   "source": [
    "print(\"node1:\", node1, \"node2:\", node2)\n",
    "print(\"node3:\", node3)"
   ]
  },
  {
   "cell_type": "code",
   "execution_count": 9,
   "metadata": {},
   "outputs": [
    {
     "name": "stdout",
     "output_type": "stream",
     "text": [
      "sess.run(node1, node2):  [3.0, 4.0]\n",
      "sess.run(node3): 7.0\n"
     ]
    }
   ],
   "source": [
    "# 2. feed data and run graph(operation) \n",
    "# sess.run(op)\n",
    "sess = tf.Session()\n",
    "print(\"sess.run(node1, node2): \", sess.run([node1,node2]))\n",
    "\n",
    "# 3. update variables in the graph(and return values)\n",
    "print(\"sess.run(node3):\", sess.run(node3))"
   ]
  },
  {
   "cell_type": "code",
   "execution_count": 11,
   "metadata": {
    "collapsed": true
   },
   "outputs": [
    {
     "name": "stdout",
     "output_type": "stream",
     "text": [
      "7.5\n",
      "[3. 7.]\n"
     ]
    }
   ],
   "source": [
    "a = tf.placeholder(tf.float32)\n",
    "b = tf.placeholder(tf.float32)\n",
    "adder_node  = a + b # + same as tf.add(a,b)\n",
    "\n",
    "print(sess.run(adder_node, feed_dict={a:3, b:4.5}))\n",
    "print(sess.run(adder_node, feed_dict={a:[1,3], b:[2,4]}))"
   ]
  },
  {
   "cell_type": "code",
   "execution_count": 12,
   "metadata": {},
   "outputs": [
    {
     "data": {
      "text/plain": [
       "[[[1.0, 2.0, 3]], [[4.0, 5.0, 6.0]]]"
      ]
     },
     "execution_count": 12,
     "metadata": {},
     "output_type": "execute_result"
    }
   ],
   "source": [
    "3 # rank0, 스칼라 tensor, shape가 []\n",
    "[1.,2.,3.] # rank1 tensor, shape 가 [3]\n",
    "[[1.,2.,3.],[4.,5.,6.]] # rank2 tensor, shape가 [2,3]\n",
    "[[[1.,2.,3]],[[4.,5.,6.]]] # rank3 tensor, shape [2,1,3]"
   ]
  },
  {
   "cell_type": "code",
   "execution_count": 14,
   "metadata": {
    "collapsed": true
   },
   "outputs": [
    {
     "name": "stdout",
     "output_type": "stream",
     "text": [
      "0 3.533891 [-0.19561832] [0.78472203]\n",
      "100 0.10690581 [0.62024546] [0.8632563]\n",
      "200 0.066061266 [0.70148283] [0.6785997]\n",
      "300 0.04082181 [0.7653384] [0.53344107]\n",
      "400 0.025225371 [0.81553465] [0.41933316]\n",
      "500 0.015587751 [0.8549934] [0.32963416]\n",
      "600 0.009632309 [0.8860115] [0.25912258]\n",
      "700 0.0059521827 [0.91039467] [0.20369406]\n",
      "800 0.0036780934 [0.929562] [0.16012213]\n",
      "900 0.0022728338 [0.9446293] [0.12587056]\n",
      "1000 0.0014044722 [0.95647365] [0.09894568]\n",
      "1100 0.0008678804 [0.96578425] [0.07778041]\n",
      "1200 0.0005362968 [0.9731033] [0.0611425]\n",
      "1300 0.0003313974 [0.9788567] [0.04806364]\n",
      "1400 0.0002047846 [0.98337954] [0.0377823]\n",
      "1500 0.00012654299 [0.9869348] [0.02970032]\n",
      "1600 7.819781e-05 [0.9897294] [0.02334725]\n",
      "1700 4.8321006e-05 [0.9919265] [0.01835302]\n",
      "1800 2.9858742e-05 [0.99365354] [0.0144271]\n",
      "1900 1.8450757e-05 [0.99501115] [0.01134099]\n",
      "2000 1.140181e-05 [0.99607825] [0.00891505]\n"
     ]
    }
   ],
   "source": [
    "# lab 02: Linear Regression\n",
    "# 1. Build graph using TF operations\n",
    "# H(x) = Wx + b\n",
    "x_train = [1,2,3]\n",
    "y_train = [1,2,3]\n",
    "\n",
    "# varialble은 TF가 사용하는 변수, trainable한 변수, rank가 1인 랜덤 변수\n",
    "W = tf.Variable(tf.random_normal([1]), name = 'weight')\n",
    "b = tf.Variable(tf.random_normal([1]), name = 'bias')\n",
    "\n",
    "hypotesis = x_train * W +b\n",
    "\n",
    "# cost/loss function\n",
    "cost = tf.reduce_mean(tf.square(hypotesis - y_train))\n",
    "\n",
    "# Minimize\n",
    "optimizer = tf.train.GradientDescentOptimizer(learning_rate=0.01)\n",
    "train = optimizer.minimize(cost)\n",
    "\n",
    "# Launch the graph in a session\n",
    "sess = tf.Session()\n",
    "# w,b와 variable을 사용하기 전에는 반드시 global variable initialize가 필요함\n",
    "sess.run(tf.global_variables_initializer())\n",
    "\n",
    "for step in range(2001):\n",
    "    sess.run(train)\n",
    "    if step % 100 == 0:\n",
    "        print(step, sess.run(cost), sess.run(W), sess.run(b))\n"
   ]
  },
  {
   "cell_type": "code",
   "execution_count": 16,
   "metadata": {},
   "outputs": [
    {
     "name": "stdout",
     "output_type": "stream",
     "text": [
      "0 79.244644 [-0.81431794] [-1.9811964]\n",
      "100 0.5303118 [1.472785] [-0.606904]\n",
      "200 0.26938117 [1.3369626] [-0.11654188]\n",
      "300 0.1368368 [1.2401594] [0.23294847]\n",
      "400 0.06950862 [1.171166] [0.48203647]\n",
      "500 0.035308134 [1.1219931] [0.659566]\n",
      "600 0.01793533 [1.0869466] [0.786095]\n",
      "700 0.009110534 [1.0619683] [0.87627447]\n",
      "800 0.004627856 [1.044166] [0.9405467]\n",
      "900 0.0023507937 [1.0314778] [0.98635507]\n",
      "1000 0.0011941155 [1.0224348] [1.0190032]\n",
      "1100 0.00060658087 [1.0159897] [1.0422719]\n",
      "1200 0.00030812746 [1.0113963] [1.0588559]\n",
      "1300 0.00015652021 [1.0081223] [1.0706756]\n",
      "1400 7.950643e-05 [1.0057889] [1.0791]\n",
      "1500 4.0385738e-05 [1.0041258] [1.0851043]\n",
      "1600 2.0516261e-05 [1.0029407] [1.0893831]\n",
      "1700 1.04229675e-05 [1.0020959] [1.0924329]\n",
      "1800 5.2939054e-06 [1.0014938] [1.0946069]\n",
      "1900 2.6899093e-06 [1.0010648] [1.0961558]\n",
      "2000 1.3667486e-06 [1.0007589] [1.0972599]\n"
     ]
    }
   ],
   "source": [
    "# placeholder로 만들면, 시스템을 만들어 두고 학습데이터를 나중에 줄수 있음\n",
    "\n",
    "X = tf.placeholder(tf.float32, shape = [None])\n",
    "Y = tf.placeholder(tf.float32, shape = [None])\n",
    "\n",
    "# varialble은 TF가 사용하는 변수, trainable한 변수\n",
    "W = tf.Variable(tf.random_normal([1]), name = 'weight')\n",
    "b = tf.Variable(tf.random_normal([1]), name = 'bias')\n",
    "\n",
    "hypotesis =X * W +b\n",
    "\n",
    "cost = tf.reduce_mean(tf.square(hypotesis - Y))\n",
    "\n",
    "optimizer = tf.train.GradientDescentOptimizer(learning_rate=0.01)\n",
    "train = optimizer.minimize(cost)\n",
    "\n",
    "sess = tf.Session()\n",
    "sess.run(tf.global_variables_initializer())\n",
    "\n",
    "for step in range(2001):\n",
    "    cost_val, W_val, b_val, _ = sess.run([cost, W,b, train], \n",
    "                                        feed_dict={X:[1,2,3,4,5], Y:[2.1,3.1,4.1,5.1,6.1]})\n",
    "    if step % 100 == 0:\n",
    "        print(step, cost_val, W_val, b_val)\n"
   ]
  },
  {
   "cell_type": "code",
   "execution_count": null,
   "metadata": {},
   "outputs": [],
   "source": []
  }
 ],
 "metadata": {
  "kernelspec": {
   "display_name": "Python 3",
   "language": "python",
   "name": "python3"
  },
  "language_info": {
   "codemirror_mode": {
    "name": "ipython",
    "version": 3
   },
   "file_extension": ".py",
   "mimetype": "text/x-python",
   "name": "python",
   "nbconvert_exporter": "python",
   "pygments_lexer": "ipython3",
   "version": "3.5.4"
  }
 },
 "nbformat": 4,
 "nbformat_minor": 2
}
