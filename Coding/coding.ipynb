{
 "cells": [
  {
   "cell_type": "code",
   "execution_count": 28,
   "metadata": {},
   "outputs": [
    {
     "name": "stdout",
     "output_type": "stream",
     "text": [
      "0\n",
      "0\n"
     ]
    }
   ],
   "source": [
    "x = 15\n",
    "count_flag = False\n",
    "max_count = 0\n",
    "count = 0\n",
    "while(True):\n",
    "    if x == 1:      \n",
    "        if count_flag:\n",
    "            if max_count < count:\n",
    "                max_count = count            \n",
    "        break;\n",
    "        \n",
    "    if x != 1 and x % 2 == 1:\n",
    "        if count_flag:\n",
    "            if max_count < count:\n",
    "                max_count = count\n",
    "            else:\n",
    "                pass\n",
    "            count = 0\n",
    "        else:\n",
    "            count_flag = True\n",
    "\n",
    "        x = (x-1)/2\n",
    "    elif x % 2 == 0:\n",
    "        if count_flag:\n",
    "            count += 1\n",
    "        x = x/2\n",
    "        \n",
    "        \n",
    "print(count)\n",
    "print(max_count)"
   ]
  },
  {
   "cell_type": "code",
   "execution_count": null,
   "metadata": {},
   "outputs": [],
   "source": []
  }
 ],
 "metadata": {
  "kernelspec": {
   "display_name": "Python 3",
   "language": "python",
   "name": "python3"
  },
  "language_info": {
   "codemirror_mode": {
    "name": "ipython",
    "version": 3
   },
   "file_extension": ".py",
   "mimetype": "text/x-python",
   "name": "python",
   "nbconvert_exporter": "python",
   "pygments_lexer": "ipython3",
   "version": "3.5.4"
  }
 },
 "nbformat": 4,
 "nbformat_minor": 2
}
